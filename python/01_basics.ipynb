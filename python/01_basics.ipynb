{
 "cells": [
  {
   "cell_type": "markdown",
   "id": "d728c2dc",
   "metadata": {},
   "source": [
    "Ось **розгорнутий контент для першого файлу `01_basics.ipynb`** з орієнтацією на **інформаційно-аналітичну діяльність військових штабів**:\n",
    "\n",
    "---\n",
    "\n",
    "# 📘 `01_basics.ipynb`\n",
    "\n",
    "## **Тема: Основи Python у військовій аналітиці**\n",
    "\n",
    "---\n",
    "\n",
    "### 🔹 Вступ\n",
    "\n",
    "Мета заняття — ознайомитися з базовими конструкціями Python, які стануть фундаментом для подальшої обробки бойових звітів, статистики втрат, даних розвідки та інших джерел інформації.\n",
    "\n",
    "---\n",
    "\n",
    "### 🔸 1. Змінні та типи даних\n",
    "\n",
    "#### ▶️ Основні типи:\n",
    "\n",
    "* `int` — цілі числа (кількість втрат)\n",
    "* `float` — числа з плаваючою комою (відсотки готовності)\n",
    "* `str` — текст (назви підрозділів)\n",
    "* `bool` — логічні значення (готовність: True/False)\n",
    "\n",
    "#### ✅ Приклад:\n",
    "\n",
    "```python\n",
    "enemy_losses = 120\n",
    "readiness = 0.85\n",
    "unit_name = \"1-а механізована бригада\"\n",
    "is_ready = True\n",
    "```\n",
    "\n",
    "---\n"
   ]
  },
  {
   "cell_type": "markdown",
   "id": "98bf466c",
   "metadata": {},
   "source": []
  },
  {
   "cell_type": "code",
   "execution_count": 1,
   "id": "9e0aa0a4",
   "metadata": {},
   "outputs": [
    {
     "data": {
      "text/plain": [
       "130.89"
      ]
     },
     "execution_count": 1,
     "metadata": {},
     "output_type": "execute_result"
    }
   ],
   "source": [
    "enemy_losses = 130\n",
    "readiness = 0.89\n",
    "unit_name = \"1-а механізована бригада\"\n",
    "is_ready = True\n",
    "\n",
    "enemy_losses+readiness"
   ]
  },
  {
   "cell_type": "markdown",
   "id": "bd5b22e9",
   "metadata": {},
   "source": [
    "\n",
    "### 🔸 2. Вивід інформації\n",
    "\n",
    "```python\n",
    "print(f\"{unit_name} має рівень готовності {readiness * 100}%\")\n",
    "print(\"Втрати противника:\", enemy_losses)\n",
    "```\n",
    "\n",
    "---\n"
   ]
  },
  {
   "cell_type": "code",
   "execution_count": 13,
   "id": "e9c6e73c",
   "metadata": {},
   "outputs": [
    {
     "name": "stdout",
     "output_type": "stream",
     "text": [
      "1-а механізована бригада має рівень готовності 85.0%\n",
      "Втрати противника: 130\n"
     ]
    }
   ],
   "source": [
    "print(f\"{unit_name} має рівень готовності {readiness * 100}%\")\n",
    "print(\"Втрати противника:\", enemy_losses)"
   ]
  },
  {
   "cell_type": "markdown",
   "id": "8d28f587",
   "metadata": {},
   "source": [
    "\n",
    "### 🔸 3. Арифметичні оператори\n",
    "\n",
    "* `+`, `-`, `*`, `/`, `//`, `%`, `**`\n",
    "\n",
    "#### ✅ Приклад:\n",
    "\n",
    "```python\n",
    "planned = 250\n",
    "actual = 187\n",
    "shortfall = planned - actual\n",
    "print(\"Недокомплект:\", shortfall)\n",
    "```\n",
    "\n",
    "---\n"
   ]
  },
  {
   "cell_type": "code",
   "execution_count": 2,
   "id": "1e8bf722",
   "metadata": {},
   "outputs": [
    {
     "data": {
      "text/plain": [
       "1"
      ]
     },
     "execution_count": 2,
     "metadata": {},
     "output_type": "execute_result"
    }
   ],
   "source": [
    "22%3"
   ]
  },
  {
   "cell_type": "markdown",
   "id": "367bd195",
   "metadata": {},
   "source": [
    "\n",
    "### 🔸 4. Логічні оператори\n",
    "\n",
    "* `==`, `!=`, `<`, `>`, `<=`, `>=`\n",
    "* `and`, `or`, `not`\n",
    "\n",
    "#### ✅ Приклад:\n",
    "\n",
    "```python\n",
    "if readiness > 0.9 and enemy_losses > 100:\n",
    "    print(\"Можна перейти до активних дій.\")\n",
    "else:\n",
    "    print(\"Потрібна додаткова підготовка.\")\n",
    "```\n",
    "\n",
    "---\n"
   ]
  },
  {
   "cell_type": "code",
   "execution_count": 3,
   "id": "2c8f430f",
   "metadata": {},
   "outputs": [
    {
     "data": {
      "text/plain": [
       "False"
      ]
     },
     "execution_count": 3,
     "metadata": {},
     "output_type": "execute_result"
    }
   ],
   "source": [
    "a = True\n",
    "b = False\n",
    "\n",
    "c = (5==3) or b or not a\n",
    "\n",
    "c"
   ]
  },
  {
   "cell_type": "markdown",
   "id": "a37e8b61",
   "metadata": {},
   "source": [
    "\n",
    "### 🔸 5. Введення даних з клавіатури\n",
    "\n",
    "```python\n",
    "direction = input(\"Введіть напрямок атаки: \")\n",
    "print(f\"Обрано напрямок: {direction}\")\n",
    "```\n",
    "\n",
    "---\n",
    "\n",
    "### 🔸 6. Умовні конструкції `if`, `elif`, `else`\n",
    "\n",
    "#### ✅ Приклад:\n",
    "\n",
    "```python\n",
    "if enemy_losses > 200:\n",
    "    print(\"Ворог зазнав значних втрат\")\n",
    "\n",
    "elif enemy_losses > 100:\n",
    "    print(\"Втрати середні\")\n",
    "else:\n",
    "    print(\"Втрати незначні\")\n",
    "```\n"
   ]
  },
  {
   "cell_type": "code",
   "execution_count": 4,
   "id": "c6ec499c",
   "metadata": {},
   "outputs": [
    {
     "name": "stdout",
     "output_type": "stream",
     "text": [
      "a більше b\n"
     ]
    }
   ],
   "source": [
    "a=5\n",
    "b=3\n",
    "\n",
    "if a>b:\n",
    "    res = 'a більше b'\n",
    "    # print(res)\n",
    "elif a<b:\n",
    "    res = 'a менше b'\n",
    "else:\n",
    "    res= 'a дорівнює b'\n",
    "\n",
    "print(res)"
   ]
  },
  {
   "cell_type": "markdown",
   "id": "d1fcbca0",
   "metadata": {},
   "source": [
    "\n",
    "---\n",
    "\n",
    "### 🔸 7. Цикл `for` + `range()`\n",
    "\n",
    "```python\n",
    "for day in range(1, 6):\n",
    "    print(f\"День {day}: Аналіз втрат\")\n",
    "```\n"
   ]
  },
  {
   "cell_type": "code",
   "execution_count": 57,
   "id": "70231d92",
   "metadata": {},
   "outputs": [
    {
     "name": "stdout",
     "output_type": "stream",
     "text": [
      "План наради\n",
      "Поточний Звіт  (доповідь командира 1 mbr)\n",
      "Поточний Обговорення  (доповідь командира 1 mbr)\n",
      "Поточний Постановка задач (доповідь командира 1 mbr)\n",
      "Поточний Звіт  (доповідь командира 2 mbr)\n",
      "Поточний Обговорення  (доповідь командира 2 mbr)\n",
      "Поточний Постановка задач (доповідь командира 2 mbr)\n",
      "Поточний Звіт  (доповідь командира 3 mbr)\n",
      "Поточний Обговорення  (доповідь командира 3 mbr)\n",
      "Поточний Постановка задач (доповідь командира 3 mbr)\n"
     ]
    }
   ],
   "source": [
    "title = \"План наради\"\n",
    "list1 = [\"Звіт \", \"Обговорення \", \"Постановка задач\"]\n",
    "units = [\"1 mbr\", \"2 mbr\", \"3 mbr\"]\n",
    "\n",
    "\n",
    "print (title)\n",
    "for unit in units:\n",
    "    for num in list1:    \n",
    "        print(f\"Поточний {num} (доповідь командира {unit})\")\n"
   ]
  },
  {
   "cell_type": "markdown",
   "id": "0807730d",
   "metadata": {},
   "source": [
    "\n",
    "---\n",
    "\n",
    "### 🔸 8. Цикл `while`\n",
    "\n",
    "```python\n",
    "ready = 0.5\n",
    "while ready < 0.9:\n",
    "    print(f\"Поточна готовність: {ready}\")\n",
    "    ready += 0.1\n",
    "```\n",
    "\n",
    "---\n",
    "\n",
    "### 📝 Практичні завдання:\n",
    "\n",
    "1. Вивести повідомлення про рівень втрат противника на основі введеного числа.\n",
    "2. Порахувати середній рівень готовності трьох підрозділів.\n",
    "3. Створити цикл, що виводить день і номер сектора з номером розрахунку.\n",
    "\n",
    "\n"
   ]
  },
  {
   "cell_type": "code",
   "execution_count": null,
   "id": "ade3334e",
   "metadata": {},
   "outputs": [
    {
     "name": "stdout",
     "output_type": "stream",
     "text": [
      "Середні втрати.\n"
     ]
    }
   ],
   "source": [
    "# Вводимо число втрат\n",
    "losses = int(input(\"Введіть число втрат противника: \"))\n",
    "\n",
    "# Визначаємо рівень втрат\n",
    "if losses == 0:\n",
    "    print(\"Втрат немає.\")\n",
    "elif 1 <= losses <= 10:\n",
    "    print(\"Невеликі втрати.\")\n",
    "elif 11 <= losses <= 50:\n",
    "    print(\"Середні втрати.\")\n",
    "elif 51 <= losses <= 100:\n",
    "    print(\"Великі втрати.\")\n",
    "else:\n",
    "    print(\"Катастрофічні втрати!\")\n",
    " "
   ]
  }
 ],
 "metadata": {
  "kernelspec": {
   "display_name": "Python 3",
   "language": "python",
   "name": "python3"
  },
  "language_info": {
   "codemirror_mode": {
    "name": "ipython",
    "version": 3
   },
   "file_extension": ".py",
   "mimetype": "text/x-python",
   "name": "python",
   "nbconvert_exporter": "python",
   "pygments_lexer": "ipython3",
   "version": "3.11.9"
  }
 },
 "nbformat": 4,
 "nbformat_minor": 5
}
