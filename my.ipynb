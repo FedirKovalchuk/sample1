{
 "cells": [
  {
   "cell_type": "markdown",
   "id": "cbda39e1",
   "metadata": {},
   "source": [
    "print(\"Привіт, світ!\")\n",
    "print(\"Привіт, 5103\")\n"
   ]
  },
  {
   "cell_type": "code",
   "execution_count": 5,
   "id": "7ac93ba4",
   "metadata": {},
   "outputs": [
    {
     "data": {
      "text/plain": [
       "4"
      ]
     },
     "execution_count": 5,
     "metadata": {},
     "output_type": "execute_result"
    }
   ],
   "source": [
    "2+2\n"
   ]
  },
  {
   "cell_type": "code",
   "execution_count": 6,
   "id": "637b4803",
   "metadata": {},
   "outputs": [
    {
     "data": {
      "text/plain": [
       "True"
      ]
     },
     "execution_count": 6,
     "metadata": {},
     "output_type": "execute_result"
    }
   ],
   "source": [
    "t=True\n",
    "f=False\n",
    "t and not f"
   ]
  },
  {
   "cell_type": "code",
   "execution_count": 13,
   "id": "12c5ae3c",
   "metadata": {},
   "outputs": [
    {
     "name": "stdout",
     "output_type": "stream",
     "text": [
      "5\n",
      "value 7\n"
     ]
    }
   ],
   "source": [
    "number = 5 # int\n",
    "# del number\n",
    "print(number)\n",
    "number = 7\n",
    "\n",
    "print (\"value\", number)\n",
    "\n",
    "num = -4455.567895 #\n",
    "word = \"Hello\" # string\n",
    "word = \"False\" # bool\n"
   ]
  },
  {
   "cell_type": "code",
   "execution_count": null,
   "id": "b7edba6a",
   "metadata": {},
   "outputs": [],
   "source": []
  }
 ],
 "metadata": {
  "kernelspec": {
   "display_name": "Python 3",
   "language": "python",
   "name": "python3"
  },
  "language_info": {
   "codemirror_mode": {
    "name": "ipython",
    "version": 3
   },
   "file_extension": ".py",
   "mimetype": "text/x-python",
   "name": "python",
   "nbconvert_exporter": "python",
   "pygments_lexer": "ipython3",
   "version": "3.11.9"
  }
 },
 "nbformat": 4,
 "nbformat_minor": 5
}
